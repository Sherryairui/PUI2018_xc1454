{
 "cells": [
  {
   "cell_type": "code",
   "execution_count": 1,
   "metadata": {},
   "outputs": [
    {
     "name": "stdout",
     "output_type": "stream",
     "text": [
      "Populating the interactive namespace from numpy and matplotlib\n"
     ]
    }
   ],
   "source": [
    "import numpy as np\n",
    "import pandas as pd\n",
    "import urllib\n",
    "import os\n",
    "import pylab as pl\n",
    "import geopandas as gpd\n",
    "#import choroplethNYC as cp\n",
    "import requests\n",
    "import json\n",
    "import io\n",
    "import shapely\n",
    "from fiona.crs import from_epsg\n",
    "import pysal as ps\n",
    "\n",
    "%pylab inline\n",
    "\n",
    "puidata = os.getenv(\"PUIDATA\")\n",
    "if puidata is None:\n",
    "    os.environ[\"PUIDATA\"] = \"%s/PUIdata\"%os.getenv(\"HOME\")\n",
    "    puidata = os.getenv(\"PUIDATA\")"
   ]
  },
  {
   "cell_type": "code",
   "execution_count": 2,
   "metadata": {
    "scrolled": true
   },
   "outputs": [],
   "source": [
    "# download 201409 citibike data\n",
    "\n",
    "#! curl -O https://s3.amazonaws.com/tripdata/201409-citibike-tripdata.zip\n",
    "#! mv 201409-citibike-tripdata.zip $PUIDATA\n",
    "#! unzip $PUIDATA/201409-citibike-tripdata.zip \n",
    "#! mv 201409-citibike-tripdata.csv $PUIDATA"
   ]
  },
  {
   "cell_type": "code",
   "execution_count": 3,
   "metadata": {},
   "outputs": [],
   "source": [
    "df = pd.read_csv(os.getenv(\"PUIDATA\") + '/201409-citibike-tripdata.csv')\n",
    "df.head()\n",
    "\n",
    "df['date'] = pd.to_datetime(df['starttime'])"
   ]
  },
  {
   "cell_type": "code",
   "execution_count": 4,
   "metadata": {},
   "outputs": [
    {
     "data": {
      "text/html": [
       "<div>\n",
       "<table border=\"1\" class=\"dataframe\">\n",
       "  <thead>\n",
       "    <tr style=\"text-align: right;\">\n",
       "      <th></th>\n",
       "      <th>tripduration</th>\n",
       "      <th>starttime</th>\n",
       "      <th>stoptime</th>\n",
       "      <th>start station id</th>\n",
       "      <th>start station name</th>\n",
       "      <th>start station latitude</th>\n",
       "      <th>start station longitude</th>\n",
       "      <th>end station id</th>\n",
       "      <th>end station name</th>\n",
       "      <th>end station latitude</th>\n",
       "      <th>end station longitude</th>\n",
       "      <th>bikeid</th>\n",
       "      <th>usertype</th>\n",
       "      <th>birth year</th>\n",
       "      <th>gender</th>\n",
       "      <th>date</th>\n",
       "    </tr>\n",
       "  </thead>\n",
       "  <tbody>\n",
       "    <tr>\n",
       "      <th>0</th>\n",
       "      <td>2828</td>\n",
       "      <td>9/1/2014 00:00:25</td>\n",
       "      <td>9/1/2014 00:47:33</td>\n",
       "      <td>386</td>\n",
       "      <td>Centre St &amp; Worth St</td>\n",
       "      <td>40.714948</td>\n",
       "      <td>-74.002345</td>\n",
       "      <td>450</td>\n",
       "      <td>W 49 St &amp; 8 Ave</td>\n",
       "      <td>40.762272</td>\n",
       "      <td>-73.987882</td>\n",
       "      <td>15941</td>\n",
       "      <td>Subscriber</td>\n",
       "      <td>1980.0</td>\n",
       "      <td>1</td>\n",
       "      <td>2014-09-01 00:00:25</td>\n",
       "    </tr>\n",
       "    <tr>\n",
       "      <th>1</th>\n",
       "      <td>368</td>\n",
       "      <td>9/1/2014 00:00:28</td>\n",
       "      <td>9/1/2014 00:06:36</td>\n",
       "      <td>387</td>\n",
       "      <td>Centre St &amp; Chambers St</td>\n",
       "      <td>40.712733</td>\n",
       "      <td>-74.004607</td>\n",
       "      <td>2008</td>\n",
       "      <td>Little West St &amp; 1 Pl</td>\n",
       "      <td>40.705693</td>\n",
       "      <td>-74.016777</td>\n",
       "      <td>18962</td>\n",
       "      <td>Subscriber</td>\n",
       "      <td>1982.0</td>\n",
       "      <td>1</td>\n",
       "      <td>2014-09-01 00:00:28</td>\n",
       "    </tr>\n",
       "    <tr>\n",
       "      <th>2</th>\n",
       "      <td>2201</td>\n",
       "      <td>9/1/2014 00:00:40</td>\n",
       "      <td>9/1/2014 00:37:21</td>\n",
       "      <td>386</td>\n",
       "      <td>Centre St &amp; Worth St</td>\n",
       "      <td>40.714948</td>\n",
       "      <td>-74.002345</td>\n",
       "      <td>441</td>\n",
       "      <td>E 52 St &amp; 2 Ave</td>\n",
       "      <td>40.756014</td>\n",
       "      <td>-73.967416</td>\n",
       "      <td>15982</td>\n",
       "      <td>Subscriber</td>\n",
       "      <td>1968.0</td>\n",
       "      <td>1</td>\n",
       "      <td>2014-09-01 00:00:40</td>\n",
       "    </tr>\n",
       "    <tr>\n",
       "      <th>3</th>\n",
       "      <td>322</td>\n",
       "      <td>9/1/2014 00:00:41</td>\n",
       "      <td>9/1/2014 00:06:03</td>\n",
       "      <td>167</td>\n",
       "      <td>E 39 St &amp; 3 Ave</td>\n",
       "      <td>40.748901</td>\n",
       "      <td>-73.976049</td>\n",
       "      <td>528</td>\n",
       "      <td>2 Ave &amp; E 31 St</td>\n",
       "      <td>40.742909</td>\n",
       "      <td>-73.977061</td>\n",
       "      <td>19081</td>\n",
       "      <td>Subscriber</td>\n",
       "      <td>1961.0</td>\n",
       "      <td>1</td>\n",
       "      <td>2014-09-01 00:00:41</td>\n",
       "    </tr>\n",
       "    <tr>\n",
       "      <th>4</th>\n",
       "      <td>1693</td>\n",
       "      <td>9/1/2014 00:00:59</td>\n",
       "      <td>9/1/2014 00:29:12</td>\n",
       "      <td>223</td>\n",
       "      <td>W 13 St &amp; 7 Ave</td>\n",
       "      <td>40.737815</td>\n",
       "      <td>-73.999947</td>\n",
       "      <td>83</td>\n",
       "      <td>Atlantic Ave &amp; Fort Greene Pl</td>\n",
       "      <td>40.683826</td>\n",
       "      <td>-73.976323</td>\n",
       "      <td>20836</td>\n",
       "      <td>Subscriber</td>\n",
       "      <td>1978.0</td>\n",
       "      <td>1</td>\n",
       "      <td>2014-09-01 00:00:59</td>\n",
       "    </tr>\n",
       "  </tbody>\n",
       "</table>\n",
       "</div>"
      ],
      "text/plain": [
       "   tripduration          starttime           stoptime  start station id  \\\n",
       "0          2828  9/1/2014 00:00:25  9/1/2014 00:47:33               386   \n",
       "1           368  9/1/2014 00:00:28  9/1/2014 00:06:36               387   \n",
       "2          2201  9/1/2014 00:00:40  9/1/2014 00:37:21               386   \n",
       "3           322  9/1/2014 00:00:41  9/1/2014 00:06:03               167   \n",
       "4          1693  9/1/2014 00:00:59  9/1/2014 00:29:12               223   \n",
       "\n",
       "        start station name  start station latitude  start station longitude  \\\n",
       "0     Centre St & Worth St               40.714948               -74.002345   \n",
       "1  Centre St & Chambers St               40.712733               -74.004607   \n",
       "2     Centre St & Worth St               40.714948               -74.002345   \n",
       "3          E 39 St & 3 Ave               40.748901               -73.976049   \n",
       "4          W 13 St & 7 Ave               40.737815               -73.999947   \n",
       "\n",
       "   end station id               end station name  end station latitude  \\\n",
       "0             450                W 49 St & 8 Ave             40.762272   \n",
       "1            2008          Little West St & 1 Pl             40.705693   \n",
       "2             441                E 52 St & 2 Ave             40.756014   \n",
       "3             528                2 Ave & E 31 St             40.742909   \n",
       "4              83  Atlantic Ave & Fort Greene Pl             40.683826   \n",
       "\n",
       "   end station longitude  bikeid    usertype  birth year  gender  \\\n",
       "0             -73.987882   15941  Subscriber      1980.0       1   \n",
       "1             -74.016777   18962  Subscriber      1982.0       1   \n",
       "2             -73.967416   15982  Subscriber      1968.0       1   \n",
       "3             -73.977061   19081  Subscriber      1961.0       1   \n",
       "4             -73.976323   20836  Subscriber      1978.0       1   \n",
       "\n",
       "                 date  \n",
       "0 2014-09-01 00:00:25  \n",
       "1 2014-09-01 00:00:28  \n",
       "2 2014-09-01 00:00:40  \n",
       "3 2014-09-01 00:00:41  \n",
       "4 2014-09-01 00:00:59  "
      ]
     },
     "execution_count": 4,
     "metadata": {},
     "output_type": "execute_result"
    }
   ],
   "source": [
    "df.head()"
   ]
  },
  {
   "cell_type": "code",
   "execution_count": 5,
   "metadata": {},
   "outputs": [],
   "source": [
    "df.drop(['tripduration', 'starttime', 'stoptime', 'start station id',\n",
    "       'start station name', 'start station latitude',\n",
    "       'start station longitude', 'end station id', 'end station name',\n",
    "       'end station latitude', 'end station longitude', 'bikeid', 'usertype',\n",
    "       'gender'], axis=1, inplace=True)"
   ]
  },
  {
   "cell_type": "code",
   "execution_count": 6,
   "metadata": {},
   "outputs": [
    {
     "data": {
      "text/html": [
       "<div>\n",
       "<table border=\"1\" class=\"dataframe\">\n",
       "  <thead>\n",
       "    <tr style=\"text-align: right;\">\n",
       "      <th></th>\n",
       "      <th>birth year</th>\n",
       "      <th>date</th>\n",
       "      <th>age</th>\n",
       "    </tr>\n",
       "  </thead>\n",
       "  <tbody>\n",
       "    <tr>\n",
       "      <th>0</th>\n",
       "      <td>1980.0</td>\n",
       "      <td>2014-09-01 00:00:25</td>\n",
       "      <td>38.0</td>\n",
       "    </tr>\n",
       "    <tr>\n",
       "      <th>1</th>\n",
       "      <td>1982.0</td>\n",
       "      <td>2014-09-01 00:00:28</td>\n",
       "      <td>36.0</td>\n",
       "    </tr>\n",
       "    <tr>\n",
       "      <th>2</th>\n",
       "      <td>1968.0</td>\n",
       "      <td>2014-09-01 00:00:40</td>\n",
       "      <td>50.0</td>\n",
       "    </tr>\n",
       "    <tr>\n",
       "      <th>3</th>\n",
       "      <td>1961.0</td>\n",
       "      <td>2014-09-01 00:00:41</td>\n",
       "      <td>57.0</td>\n",
       "    </tr>\n",
       "    <tr>\n",
       "      <th>4</th>\n",
       "      <td>1978.0</td>\n",
       "      <td>2014-09-01 00:00:59</td>\n",
       "      <td>40.0</td>\n",
       "    </tr>\n",
       "  </tbody>\n",
       "</table>\n",
       "</div>"
      ],
      "text/plain": [
       "   birth year                date   age\n",
       "0      1980.0 2014-09-01 00:00:25  38.0\n",
       "1      1982.0 2014-09-01 00:00:28  36.0\n",
       "2      1968.0 2014-09-01 00:00:40  50.0\n",
       "3      1961.0 2014-09-01 00:00:41  57.0\n",
       "4      1978.0 2014-09-01 00:00:59  40.0"
      ]
     },
     "execution_count": 6,
     "metadata": {},
     "output_type": "execute_result"
    }
   ],
   "source": [
    "df['age'] = 2018 - df['birth year']\n",
    "df.head()"
   ]
  },
  {
   "cell_type": "code",
   "execution_count": 7,
   "metadata": {},
   "outputs": [],
   "source": [
    "df.drop(['birth year'], axis=1, inplace=True)"
   ]
  },
  {
   "cell_type": "code",
   "execution_count": 8,
   "metadata": {
    "scrolled": false
   },
   "outputs": [
    {
     "name": "stderr",
     "output_type": "stream",
     "text": [
      "/usr/local/Anaconda3-5.0.0-Linux-x86_64/envs/PUI2016_Python3/lib/python3.5/site-packages/matplotlib/__init__.py:1710: MatplotlibDeprecationWarning: The *left* kwarg to `bar` is deprecated use *x* instead. Support for *left* will be removed in Matplotlib 3.0\n",
      "  return func(ax, *args, **kwargs)\n"
     ]
    },
    {
     "data": {
      "image/png": "[encoded data removed]",
      "text/plain": [
       "<matplotlib.figure.Figure at 0x7f226b899080>"
      ]
     },
     "metadata": {},
     "output_type": "display_data"
    }
   ],
   "source": [
    "fig=pl.figure(figsize(15,10))\n",
    "x = range(30)\n",
    "\n",
    "counts_w = (df['date'][df['age'] >= 45].groupby([df['date'].dt.day]).count())\n",
    "norm_w = 1\n",
    "\n",
    "bar_width = 0.35\n",
    "\n",
    "\n",
    "ax = pl.bar(left = x, height=counts_w, width = 0.35, label='Old People(age>=45)', color='IndianRed')\n",
    "\n",
    "\n",
    "counts_m = (df['date'][df['age'] < 45].groupby([df['date'].dt.day]).count())\n",
    "norm_m = 1\n",
    "pl.bar(left = [i + bar_width for i in x], height=counts_m, width = 0.35, label='Young People(age<45)', color='SteelBlue')      \n",
    "\n",
    "\n",
    "plt.xticks(x)\n",
    "pl.ylabel (\"Number of rides\",fontsize=15)\n",
    "pl.xlabel (\"Days of Month (Sep 2014)\",fontsize=15)\n",
    "pl.title('Daily rides number for Old People and Young People in September 2014',fontsize=20)\n",
    "pl.legend(['Old People','Young People'],fontsize=11)\n",
    "\n",
    "plt.savefig(\"Daily_rides_number_for_Old_People_and_Young_People_in_201409.png\")"
   ]
  },
  {
   "cell_type": "markdown",
   "metadata": {},
   "source": [
    "# Figure 1\n",
    "\n",
    "Here is the histogram about the number of old (age>=45) and young (age<45) people riding citi bike through 09.2014, which shows by days. I use this figure to find the difference between the number of old and young people riding citi bike. From this figure, we can see that the number of young people who ride citi bike in 09.2014 is much higher than the number of old people through the whole month.\n"
   ]
  },
  {
   "cell_type": "markdown",
   "metadata": {},
   "source": [
    "## Improvement\n",
    "\n",
    "Here I optimize the legend to prevent it to obscure the figure and add the age range. And use larger fontsize to make sure reader see the plot clearly. Change the title to 'Daily rides number for Old People and Young People in September 2014' and change the y-axis label to 'Days of Month (Sep 2014)'. What's more, I remove the error bar in case it leads some misunderstanding. And I make the bars for next to each other (not stacked) to compare their magnitude."
   ]
  },
  {
   "cell_type": "code",
   "execution_count": null,
   "metadata": {},
   "outputs": [],
   "source": []
  }
 ],
 "metadata": {
  "kernelspec": {
   "display_name": "PUI2016_Python3",
   "language": "python",
   "name": "pui2016_python3"
  },
  "language_info": {
   "codemirror_mode": {
    "name": "ipython",
    "version": 3
   },
   "file_extension": ".py",
   "mimetype": "text/x-python",
   "name": "python",
   "nbconvert_exporter": "python",
   "pygments_lexer": "ipython3",
   "version": "3.5.4"
  }
 },
 "nbformat": 4,
 "nbformat_minor": 2
}
